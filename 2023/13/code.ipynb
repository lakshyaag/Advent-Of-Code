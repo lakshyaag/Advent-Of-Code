{
 "cells": [
  {
   "cell_type": "code",
   "execution_count": 58,
   "metadata": {},
   "outputs": [],
   "source": [
    "import os\n",
    "import numpy as np\n",
    "from rich import print as rprint\n",
    "from itertools import combinations"
   ]
  },
  {
   "cell_type": "code",
   "execution_count": 144,
   "metadata": {},
   "outputs": [
    {
     "data": {
      "text/plain": [
       "[array([['#', '.', '#', '#', '.', '.', '#', '#', '.'],\n",
       "        ['.', '.', '#', '.', '#', '#', '.', '#', '.'],\n",
       "        ['#', '#', '.', '.', '.', '.', '.', '.', '#'],\n",
       "        ['#', '#', '.', '.', '.', '.', '.', '.', '#'],\n",
       "        ['.', '.', '#', '.', '#', '#', '.', '#', '.'],\n",
       "        ['.', '.', '#', '#', '.', '.', '#', '#', '.'],\n",
       "        ['#', '.', '#', '.', '#', '#', '.', '#', '.']], dtype='<U1'),\n",
       " array([['#', '.', '.', '.', '#', '#', '.', '.', '#'],\n",
       "        ['#', '.', '.', '.', '.', '#', '.', '.', '#'],\n",
       "        ['.', '.', '#', '#', '.', '.', '#', '#', '#'],\n",
       "        ['#', '#', '#', '#', '#', '.', '#', '#', '.'],\n",
       "        ['#', '#', '#', '#', '#', '.', '#', '#', '.'],\n",
       "        ['.', '.', '#', '#', '.', '.', '#', '#', '#'],\n",
       "        ['#', '.', '.', '.', '.', '#', '.', '.', '#']], dtype='<U1')]"
      ]
     },
     "execution_count": 144,
     "metadata": {},
     "output_type": "execute_result"
    }
   ],
   "source": [
    "with open('./sample.txt') as f:\n",
    "    data = f.read()\n",
    "\n",
    "data = data.split('\\n\\n')\n",
    "data = [np.array(line.split('\\n')) for line in data]\n",
    "data = [np.array([list(line) for line in block]) for block in data]\n",
    "data"
   ]
  },
  {
   "cell_type": "code",
   "execution_count": 146,
   "metadata": {},
   "outputs": [],
   "source": [
    "reflective_columns = {}\n",
    "for i, block in enumerate(data):\n",
    "    columns_to_compare = sorted(list(combinations(range(data[i].shape[1]), 2)), key=lambda x: x[1], reverse=True)\n",
    "    reflective_columns[i] = []\n",
    "    for column1, column2 in columns_to_compare:\n",
    "        if np.all(block[:, column1] == block[:, column2]):\n",
    "            reflective_columns[i].append((column1, column2))"
   ]
  },
  {
   "cell_type": "code",
   "execution_count": 155,
   "metadata": {},
   "outputs": [
    {
     "name": "stdout",
     "output_type": "stream",
     "text": [
      "0 (1, 2, 3, 4) (8, 7, 6, 5)\n",
      "True True\n"
     ]
    },
    {
     "data": {
      "text/plain": [
       "[4]"
      ]
     },
     "execution_count": 155,
     "metadata": {},
     "output_type": "execute_result"
    }
   ],
   "source": [
    "vertical_columns = []\n",
    "for block_num, reflections in reflective_columns.items():\n",
    "   reflection_sums = [sum(reflection) for reflection in reflections]\n",
    "   if all(reflection_sums[0] == x for x in reflection_sums) and len(reflections) > 1:\n",
    "      col1, col2 = zip(*reflections)\n",
    "      seq1 = (np.all(col1 == np.arange(col1[0], col1[0] + len(col1))))\n",
    "      seq2 = (np.all(col2 == np.arange(col2[0], col2[0] - len(col2), -1)))\n",
    "      print(block_num, col1, col2)\n",
    "      print(seq1, seq2)\n",
    "      vertical_columns.append(max(col1))\n",
    "\n",
    "vertical_columns"
   ]
  },
  {
   "cell_type": "code",
   "execution_count": 153,
   "metadata": {},
   "outputs": [
    {
     "name": "stdout",
     "output_type": "stream",
     "text": [
      "(2, 3)\n",
      "0 (1, 2) (4, 3)\n",
      "True True\n",
      "(3, 4)\n",
      "1 (1, 2, 3) (6, 5, 4)\n",
      "True True\n"
     ]
    },
    {
     "data": {
      "text/plain": [
       "[2, 3]"
      ]
     },
     "execution_count": 153,
     "metadata": {},
     "output_type": "execute_result"
    }
   ],
   "source": [
    "reflective_rows = {}\n",
    "for i, block in enumerate(data):\n",
    "    rows_to_compare = sorted(list(combinations(range(data[i].shape[0]), 2)), key=lambda x: x[1], reverse=True)\n",
    "    reflective_rows[i] = []\n",
    "    for row1, row2 in rows_to_compare:\n",
    "        if np.all(block[row1, :] == block[row2, :]):\n",
    "            reflective_rows[i].append((row1, row2))\n",
    "\n",
    "horizontal_rows = []\n",
    "for block_num, reflections in reflective_rows.items():\n",
    "   reflection_sums = [sum(reflection) for reflection in reflections]\n",
    "   if all(reflection_sums[0] == x for x in reflection_sums) and len(reflections) > 1:\n",
    "      row1, row2 = zip(*reflections)\n",
    "      seq1 = (np.all(row1 == np.arange(row1[0], row1[0] + len(row1))))\n",
    "      seq2 = (np.all(row2 == np.arange(row2[0], row2[0] - len(row2), -1)))\n",
    "\n",
    "      min_sum = (max(row1), min(row2)) if min(row2) - max(row1) == 1 else None\n",
    "      print(min_sum)\n",
    "\n",
    "      print(block_num, row1, row2)\n",
    "      print(seq1, seq2)\n",
    "      horizontal_rows.append(max(row1))\n",
    "\n",
    "horizontal_rows"
   ]
  },
  {
   "cell_type": "code",
   "execution_count": 157,
   "metadata": {},
   "outputs": [
    {
     "name": "stdout",
     "output_type": "stream",
     "text": [
      "32371\n",
      "37416\n"
     ]
    }
   ],
   "source": [
    "with open('./input.txt') as f:\n",
    "    data = f.read()\n",
    "\n",
    "patterns = [p.splitlines() for p in data.split(\"\\n\\n\")]\n",
    "diff = lambda p, j: sum(sum(a != b for a, b in zip(l[j:], l[j - 1 :: -1])) for l in p)\n",
    "mirror = lambda p, d: sum(j for j in range(1, len(p[0])) if diff(p, j) == d)\n",
    "summarize = lambda p, d: mirror(p, d) + 100 * mirror([*zip(*p)], d)\n",
    "print(sum(summarize(p, 0) for p in patterns))\n",
    "print(sum(summarize(p, 1) for p in patterns))"
   ]
  },
  {
   "cell_type": "code",
   "execution_count": null,
   "metadata": {},
   "outputs": [],
   "source": []
  }
 ],
 "metadata": {
  "kernelspec": {
   "display_name": "Python 3",
   "language": "python",
   "name": "python3"
  },
  "language_info": {
   "codemirror_mode": {
    "name": "ipython",
    "version": 3
   },
   "file_extension": ".py",
   "mimetype": "text/x-python",
   "name": "python",
   "nbconvert_exporter": "python",
   "pygments_lexer": "ipython3",
   "version": "3.11.6"
  }
 },
 "nbformat": 4,
 "nbformat_minor": 2
}
