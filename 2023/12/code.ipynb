{
 "cells": [
  {
   "cell_type": "code",
   "execution_count": 28,
   "metadata": {},
   "outputs": [],
   "source": [
    "import os\n",
    "import numpy as np\n",
    "from rich import print as rprint"
   ]
  },
  {
   "cell_type": "code",
   "execution_count": 40,
   "metadata": {},
   "outputs": [
    {
     "data": {
      "text/plain": [
       "[['???.###', '1,1,3'],\n",
       " ['.??..??...?##.', '1,1,3'],\n",
       " ['?#?#?#?#?#?#?#?', '1,3,1,6'],\n",
       " ['????.#...#...', '4,1,1'],\n",
       " ['????.######..#####.', '1,6,5'],\n",
       " ['?###????????', '3,2,1']]"
      ]
     },
     "execution_count": 40,
     "metadata": {},
     "output_type": "execute_result"
    }
   ],
   "source": [
    "with open('./sample.txt') as f:\n",
    "    data = f.read().splitlines()\n",
    "\n",
    "data = [x.split(' ') for x in data]\n",
    "data"
   ]
  },
  {
   "cell_type": "code",
   "execution_count": 48,
   "metadata": {},
   "outputs": [
    {
     "data": {
      "text/plain": [
       "([['?', '?', '?', '.', '#', '#', '#'],\n",
       "  ['.', '?', '?', '.', '.', '?', '?', '.', '.', '.', '?', '#', '#', '.'],\n",
       "  ['?', '#', '?', '#', '?', '#', '?', '#', '?', '#', '?', '#', '?', '#', '?'],\n",
       "  ['?', '?', '?', '?', '.', '#', '.', '.', '.', '#', '.', '.', '.'],\n",
       "  ['?',\n",
       "   '?',\n",
       "   '?',\n",
       "   '?',\n",
       "   '.',\n",
       "   '#',\n",
       "   '#',\n",
       "   '#',\n",
       "   '#',\n",
       "   '#',\n",
       "   '#',\n",
       "   '.',\n",
       "   '.',\n",
       "   '#',\n",
       "   '#',\n",
       "   '#',\n",
       "   '#',\n",
       "   '#',\n",
       "   '.'],\n",
       "  ['?', '#', '#', '#', '?', '?', '?', '?', '?', '?', '?', '?']],\n",
       " [[1, 1, 3], [1, 1, 3], [1, 3, 1, 6], [4, 1, 1], [1, 6, 5], [3, 2, 1]])"
      ]
     },
     "execution_count": 48,
     "metadata": {},
     "output_type": "execute_result"
    }
   ],
   "source": [
    "springs, size = zip(*data)\n",
    "springs = list(list(x) for x in springs)\n",
    "size = list(list(map(int, (x.split(',')))) for x in size)\n",
    "\n",
    "springs, size"
   ]
  },
  {
   "cell_type": "code",
   "execution_count": null,
   "metadata": {},
   "outputs": [],
   "source": []
  }
 ],
 "metadata": {
  "kernelspec": {
   "display_name": "Python 3",
   "language": "python",
   "name": "python3"
  },
  "language_info": {
   "codemirror_mode": {
    "name": "ipython",
    "version": 3
   },
   "file_extension": ".py",
   "mimetype": "text/x-python",
   "name": "python",
   "nbconvert_exporter": "python",
   "pygments_lexer": "ipython3",
   "version": "3.11.6"
  }
 },
 "nbformat": 4,
 "nbformat_minor": 2
}
