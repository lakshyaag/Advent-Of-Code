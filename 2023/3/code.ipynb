{
 "cells": [
  {
   "cell_type": "code",
   "execution_count": 92,
   "metadata": {},
   "outputs": [],
   "source": [
    "import os\n",
    "import numpy as np\n",
    "from rich import print as rprint\n",
    "from collections import defaultdict"
   ]
  },
  {
   "cell_type": "code",
   "execution_count": 18,
   "metadata": {},
   "outputs": [
    {
     "data": {
      "text/plain": [
       "['467..114..',\n",
       " '...*......',\n",
       " '..35..633.',\n",
       " '......#...',\n",
       " '617*......',\n",
       " '.....+.58.',\n",
       " '..592.....',\n",
       " '......755.',\n",
       " '...$.*....',\n",
       " '.664.598..']"
      ]
     },
     "execution_count": 18,
     "metadata": {},
     "output_type": "execute_result"
    }
   ],
   "source": [
    "with open('./sample.txt') as f:\n",
    "    data = f.read().splitlines()\n",
    "\n",
    "data"
   ]
  },
  {
   "cell_type": "code",
   "execution_count": 19,
   "metadata": {},
   "outputs": [
    {
     "data": {
      "text/plain": [
       "array([['4', '6', '7', '.', '.', '1', '1', '4', '.', '.'],\n",
       "       ['.', '.', '.', '*', '.', '.', '.', '.', '.', '.'],\n",
       "       ['.', '.', '3', '5', '.', '.', '6', '3', '3', '.'],\n",
       "       ['.', '.', '.', '.', '.', '.', '#', '.', '.', '.'],\n",
       "       ['6', '1', '7', '*', '.', '.', '.', '.', '.', '.'],\n",
       "       ['.', '.', '.', '.', '.', '+', '.', '5', '8', '.'],\n",
       "       ['.', '.', '5', '9', '2', '.', '.', '.', '.', '.'],\n",
       "       ['.', '.', '.', '.', '.', '.', '7', '5', '5', '.'],\n",
       "       ['.', '.', '.', '$', '.', '*', '.', '.', '.', '.'],\n",
       "       ['.', '6', '6', '4', '.', '5', '9', '8', '.', '.']], dtype='<U1')"
      ]
     },
     "execution_count": 19,
     "metadata": {},
     "output_type": "execute_result"
    }
   ],
   "source": [
    "data = np.array([list(x) for x in data])\n",
    "data"
   ]
  },
  {
   "cell_type": "code",
   "execution_count": 36,
   "metadata": {},
   "outputs": [
    {
     "data": {
      "text/plain": [
       "['#', '$', '*', '+']"
      ]
     },
     "execution_count": 36,
     "metadata": {},
     "output_type": "execute_result"
    }
   ],
   "source": [
    "symbols = [x for x in np.unique(data) if x != '.' and x not in ['1', '2', '3', '4', '5', '6', '7', '8', '9']]\n",
    "symbols"
   ]
  },
  {
   "cell_type": "code",
   "execution_count": 63,
   "metadata": {},
   "outputs": [],
   "source": [
    "def check_adjacent(data, i, j):\n",
    "    adjacents = []\n",
    "    for x in range(i-1, i+1+1):\n",
    "        for y in range(j-1, j+1+1):\n",
    "            # print(f'Checking {x}, {y}')\n",
    "            if x == i and y == j:\n",
    "                continue\n",
    "            if x < 0 or y < 0:\n",
    "                continue\n",
    "            try:\n",
    "                adjacents.append(data[x][y])\n",
    "            except IndexError:\n",
    "                continue\n",
    "\n",
    "    count = sum(adjacents.count(x) for x in symbols)\n",
    "    return count if count > 0 else -2"
   ]
  },
  {
   "cell_type": "code",
   "execution_count": 95,
   "metadata": {},
   "outputs": [
    {
     "name": "stdout",
     "output_type": "stream",
     "text": [
      "defaultdict(<class 'int'>, {467: 1, 114: 1, 35: 1, 633: 1, 617: 1, 58: 1, 592: 1, 755: 1, 664: 1, 598: 1})\n"
     ]
    }
   ],
   "source": [
    "numbers = defaultdict(int)\n",
    "\n",
    "for x in data:\n",
    "    row = \"\".join(x)\n",
    "    nums = row.split(\".\")\n",
    "\n",
    "    for num in nums:\n",
    "        for symbol in symbols:\n",
    "            num = num.replace(symbol, \"\")\n",
    "\n",
    "        if num == \"\":\n",
    "            continue\n",
    "        numbers[int(num)] += 1\n",
    "\n",
    "print(numbers)\n"
   ]
  },
  {
   "cell_type": "code",
   "execution_count": 67,
   "metadata": {},
   "outputs": [
    {
     "data": {
      "text/plain": [
       "(array([[-1., -1.,  1., -2., -2., -1., -1., -1., -2., -2.],\n",
       "        [-2., -2., -2., -2., -2., -2., -2., -2., -2., -2.],\n",
       "        [-2., -2.,  1.,  1., -2., -2.,  1.,  1., -1., -2.],\n",
       "        [-2., -2., -2., -2., -2., -2., -2., -2., -2., -2.],\n",
       "        [-1., -1.,  1., -2., -2., -2., -2., -2., -2., -2.],\n",
       "        [-2., -2., -2., -2., -2., -2., -2., -1., -1., -2.],\n",
       "        [-2., -2., -1., -1.,  1., -2., -2., -2., -2., -2.],\n",
       "        [-2., -2., -2., -2., -2., -2.,  1., -1., -1., -2.],\n",
       "        [-2., -2., -2., -2., -2., -2., -2., -2., -2., -2.],\n",
       "        [-2., -1.,  1.,  1., -2.,  1.,  1., -1., -2., -2.]]),\n",
       " array([['4', '6', '7', '.', '.', '1', '1', '4', '.', '.'],\n",
       "        ['.', '.', '.', '*', '.', '.', '.', '.', '.', '.'],\n",
       "        ['.', '.', '3', '5', '.', '.', '6', '3', '3', '.'],\n",
       "        ['.', '.', '.', '.', '.', '.', '#', '.', '.', '.'],\n",
       "        ['6', '1', '7', '*', '.', '.', '.', '.', '.', '.'],\n",
       "        ['.', '.', '.', '.', '.', '+', '.', '5', '8', '.'],\n",
       "        ['.', '.', '5', '9', '2', '.', '.', '.', '.', '.'],\n",
       "        ['.', '.', '.', '.', '.', '.', '7', '5', '5', '.'],\n",
       "        ['.', '.', '.', '$', '.', '*', '.', '.', '.', '.'],\n",
       "        ['.', '6', '6', '4', '.', '5', '9', '8', '.', '.']], dtype='<U1'),\n",
       " array(['7', '3', '5', '6', '3', '7', '2', '7', '6', '4', '5', '9'],\n",
       "       dtype='<U1'))"
      ]
     },
     "execution_count": 67,
     "metadata": {},
     "output_type": "execute_result"
    }
   ],
   "source": [
    "data_copy = data.copy()\n",
    "\n",
    "i, j = data_copy.shape\n",
    "count_map = np.zeros((i, j))\n",
    "\n",
    "for x in range(i):\n",
    "    for y in range(j):\n",
    "        if data_copy[x][y] == '.':\n",
    "            count_map[x][y] = -2\n",
    "        elif data_copy[x][y] in symbols:\n",
    "            count_map[x][y] = -2\n",
    "        else:\n",
    "            count_map[x][y] = check_adjacent(data_copy, x, y)\n",
    "\n",
    "\n",
    "\n",
    "count_map, data, data[count_map > 0]"
   ]
  }
 ],
 "metadata": {
  "kernelspec": {
   "display_name": "Python 3",
   "language": "python",
   "name": "python3"
  },
  "language_info": {
   "codemirror_mode": {
    "name": "ipython",
    "version": 3
   },
   "file_extension": ".py",
   "mimetype": "text/x-python",
   "name": "python",
   "nbconvert_exporter": "python",
   "pygments_lexer": "ipython3",
   "version": "3.10.11"
  }
 },
 "nbformat": 4,
 "nbformat_minor": 2
}
