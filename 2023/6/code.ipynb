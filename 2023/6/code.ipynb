{
 "cells": [
  {
   "cell_type": "code",
   "execution_count": 114,
   "metadata": {},
   "outputs": [],
   "source": [
    "import os\n",
    "import numpy as np\n",
    "from rich import print as rprint\n",
    "import re"
   ]
  },
  {
   "cell_type": "code",
   "execution_count": 115,
   "metadata": {},
   "outputs": [
    {
     "data": {
      "text/plain": [
       "['Time:        49     97     94     94',\n",
       " 'Distance:   263   1532   1378   1851']"
      ]
     },
     "execution_count": 115,
     "metadata": {},
     "output_type": "execute_result"
    }
   ],
   "source": [
    "with open(\"./input.txt\") as f:\n",
    "    data = f.read().splitlines()\n",
    "\n",
    "data"
   ]
  },
  {
   "cell_type": "code",
   "execution_count": 116,
   "metadata": {},
   "outputs": [],
   "source": [
    "times, distances = (x.split(\":\") for x in data)\n",
    "times = [int(x) for x in times[1].strip().split(\" \") if x.isdigit()]\n",
    "distances = [int(x) for x in distances[1].strip().split(\" \") if x.isdigit()]"
   ]
  },
  {
   "cell_type": "code",
   "execution_count": 117,
   "metadata": {},
   "outputs": [],
   "source": [
    "def run_race(time, record):\n",
    "    # print(f\"Time: {time}, Record: {record}\")\n",
    "\n",
    "    record_break = []\n",
    "    for button_held_time in range(time):\n",
    "        record_break.append((time - button_held_time) * button_held_time > record)\n",
    "\n",
    "    return sum(record_break)\n"
   ]
  },
  {
   "cell_type": "code",
   "execution_count": 118,
   "metadata": {},
   "outputs": [
    {
     "name": "stdout",
     "output_type": "stream",
     "text": [
      "Part 1: 4403592\n"
     ]
    }
   ],
   "source": [
    "prod = 1\n",
    "for t, d in zip(times, distances):\n",
    "    prod *= run_race(t, d)\n",
    "\n",
    "print(f\"Part 1: {prod}\")\n"
   ]
  },
  {
   "cell_type": "code",
   "execution_count": 119,
   "metadata": {},
   "outputs": [],
   "source": [
    "times = int(\"\".join(map(str, times)))\n",
    "distances = int(\"\".join(map(str, distances)))"
   ]
  },
  {
   "cell_type": "code",
   "execution_count": 120,
   "metadata": {},
   "outputs": [
    {
     "data": {
      "text/plain": [
       "38017587"
      ]
     },
     "execution_count": 120,
     "metadata": {},
     "output_type": "execute_result"
    }
   ],
   "source": [
    "def run_race(time, record):\n",
    "    # print(f\"Time: {time}, Record: {record}\")\n",
    "\n",
    "    break_1, break_2 = 0, 0\n",
    "    for button_held_time in range(time):\n",
    "        if (time - button_held_time) * button_held_time > record:\n",
    "            break_1 = button_held_time\n",
    "            break\n",
    "\n",
    "    for button_held_time in range(time, -1, -1):\n",
    "        if (time - button_held_time) * button_held_time > record:\n",
    "            break_2 = button_held_time\n",
    "            break\n",
    "\n",
    "    return (break_2 - break_1) + 1\n",
    "\n",
    "\n",
    "run_race(times, distances)"
   ]
  }
 ],
 "metadata": {
  "kernelspec": {
   "display_name": "Python 3",
   "language": "python",
   "name": "python3"
  },
  "language_info": {
   "codemirror_mode": {
    "name": "ipython",
    "version": 3
   },
   "file_extension": ".py",
   "mimetype": "text/x-python",
   "name": "python",
   "nbconvert_exporter": "python",
   "pygments_lexer": "ipython3",
   "version": "3.10.11"
  }
 },
 "nbformat": 4,
 "nbformat_minor": 2
}
