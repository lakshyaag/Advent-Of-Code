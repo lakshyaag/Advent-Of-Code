{
 "cells": [
  {
   "cell_type": "code",
   "execution_count": 119,
   "metadata": {},
   "outputs": [],
   "source": [
    "import os\n",
    "import numpy as np\n",
    "import re\n",
    "from rich import print as rprint\n",
    "from collections import Counter, defaultdict"
   ]
  },
  {
   "cell_type": "code",
   "execution_count": 236,
   "metadata": {},
   "outputs": [
    {
     "data": {
      "text/plain": [
       "['32T3K 765', 'T55J5 684', 'KK677 28', 'KTJJT 220', 'QQQJA 483']"
      ]
     },
     "execution_count": 236,
     "metadata": {},
     "output_type": "execute_result"
    }
   ],
   "source": [
    "with open('./sample.txt') as f:\n",
    "    data = f.read().splitlines()\n",
    "\n",
    "data"
   ]
  },
  {
   "cell_type": "code",
   "execution_count": 237,
   "metadata": {},
   "outputs": [],
   "source": [
    "card_rankings = {\n",
    "    \"A\": 14,\n",
    "    \"K\": 13,\n",
    "    \"Q\": 12,\n",
    "    \"J\": 11,\n",
    "    \"T\": 10,\n",
    "    \"9\": 9,\n",
    "    \"8\": 8,\n",
    "    \"7\": 7,\n",
    "    \"6\": 6,\n",
    "    \"5\": 5,\n",
    "    \"4\": 4,\n",
    "    \"3\": 3,\n",
    "    \"2\": 2,\n",
    "}\n",
    "\n",
    "hand_rankings = {\n",
    "    \"five of a kind\": 7,\n",
    "    \"four of a kind\": 6,\n",
    "    \"full house\": 5,\n",
    "    \"three of a kind\": 4,\n",
    "    \"two pair\": 3,\n",
    "    \"one pair\": 2,\n",
    "    \"high card\": 1,\n",
    "}\n"
   ]
  },
  {
   "cell_type": "code",
   "execution_count": 238,
   "metadata": {},
   "outputs": [],
   "source": [
    "class Hand:\n",
    "    def __init__(self, hand):\n",
    "        self.hand = hand\n",
    "        self.counts = Counter(hand)\n",
    "\n",
    "    def max(self):\n",
    "        return max(self.counts.values())\n",
    "\n",
    "    @property\n",
    "    def hand_type(self):\n",
    "        if self.max() == 5:\n",
    "            return \"five of a kind\"\n",
    "        elif self.max() == 4:\n",
    "            return \"four of a kind\"\n",
    "        elif self.max() == 3:\n",
    "            if 2 in self.counts.values():\n",
    "                return \"full house\"\n",
    "            else:\n",
    "                return \"three of a kind\"\n",
    "        elif self.max() == 2:\n",
    "            if len(self.counts) == 3:\n",
    "                return \"two pair\"\n",
    "            else:\n",
    "                return \"one pair\"\n",
    "        else:\n",
    "            return \"high card\"\n",
    "\n",
    "    def __repr__(self):\n",
    "        return f\"{self.hand} ({self.hand_type})\"\n",
    "\n",
    "    def compare_cards(self, other):\n",
    "        print(self.hand)\n",
    "        print([card_rankings[i] for i in self.hand])\n",
    "\n",
    "        print(other.hand)\n",
    "        print([card_rankings[i] for i in other.hand])\n",
    "\n",
    "        for i, j in zip(self.hand, other.hand):\n",
    "            if card_rankings[i] > card_rankings[j]:\n",
    "                return self\n",
    "            elif card_rankings[i] < card_rankings[j]:\n",
    "                return other\n",
    "            elif card_rankings[i] == card_rankings[j]:\n",
    "                continue\n"
   ]
  },
  {
   "cell_type": "code",
   "execution_count": 239,
   "metadata": {},
   "outputs": [
    {
     "data": {
      "text/plain": [
       "([32T3K (one pair),\n",
       "  T55J5 (three of a kind),\n",
       "  KK677 (two pair),\n",
       "  KTJJT (two pair),\n",
       "  QQQJA (three of a kind)],\n",
       " [765, 684, 28, 220, 483])"
      ]
     },
     "execution_count": 239,
     "metadata": {},
     "output_type": "execute_result"
    }
   ],
   "source": [
    "hands, bids = zip(*[x.split(\" \") for x in data])\n",
    "\n",
    "hands = [Hand(x) for x in hands]\n",
    "bids = [int(x) for x in bids]\n",
    "\n",
    "hands, bids"
   ]
  },
  {
   "cell_type": "code",
   "execution_count": null,
   "metadata": {},
   "outputs": [],
   "source": []
  }
 ],
 "metadata": {
  "kernelspec": {
   "display_name": "Python 3",
   "language": "python",
   "name": "python3"
  },
  "language_info": {
   "codemirror_mode": {
    "name": "ipython",
    "version": 3
   },
   "file_extension": ".py",
   "mimetype": "text/x-python",
   "name": "python",
   "nbconvert_exporter": "python",
   "pygments_lexer": "ipython3",
   "version": "3.10.11"
  }
 },
 "nbformat": 4,
 "nbformat_minor": 2
}
